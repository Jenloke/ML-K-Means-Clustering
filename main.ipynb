{
 "cells": [
  {
   "cell_type": "code",
   "execution_count": 121,
   "metadata": {},
   "outputs": [
    {
     "name": "stdout",
     "output_type": "stream",
     "text": [
      "hello world\n",
      "be productive\n"
     ]
    }
   ],
   "source": [
    "print('hello world')\n",
    "print('be productive')"
   ]
  },
  {
   "cell_type": "code",
   "execution_count": 122,
   "metadata": {},
   "outputs": [],
   "source": [
    "import pandas as pd"
   ]
  },
  {
   "cell_type": "code",
   "execution_count": 123,
   "metadata": {},
   "outputs": [
    {
     "data": {
      "text/html": [
       "<div>\n",
       "<style scoped>\n",
       "    .dataframe tbody tr th:only-of-type {\n",
       "        vertical-align: middle;\n",
       "    }\n",
       "\n",
       "    .dataframe tbody tr th {\n",
       "        vertical-align: top;\n",
       "    }\n",
       "\n",
       "    .dataframe thead th {\n",
       "        text-align: right;\n",
       "    }\n",
       "</style>\n",
       "<table border=\"1\" class=\"dataframe\">\n",
       "  <thead>\n",
       "    <tr style=\"text-align: right;\">\n",
       "      <th></th>\n",
       "      <th>Date</th>\n",
       "      <th>Ship_Type</th>\n",
       "      <th>Route_Type</th>\n",
       "      <th>Engine_Type</th>\n",
       "      <th>Maintenance_Status</th>\n",
       "      <th>Speed_Over_Ground_knots</th>\n",
       "      <th>Engine_Power_kW</th>\n",
       "      <th>Distance_Traveled_nm</th>\n",
       "      <th>Draft_meters</th>\n",
       "      <th>Weather_Condition</th>\n",
       "      <th>Cargo_Weight_tons</th>\n",
       "      <th>Operational_Cost_USD</th>\n",
       "      <th>Revenue_per_Voyage_USD</th>\n",
       "      <th>Turnaround_Time_hours</th>\n",
       "      <th>Efficiency_nm_per_kWh</th>\n",
       "      <th>Seasonal_Impact_Score</th>\n",
       "      <th>Weekly_Voyage_Count</th>\n",
       "      <th>Average_Load_Percentage</th>\n",
       "    </tr>\n",
       "  </thead>\n",
       "  <tbody>\n",
       "    <tr>\n",
       "      <th>0</th>\n",
       "      <td>2023-06-04</td>\n",
       "      <td>Container Ship</td>\n",
       "      <td>NaN</td>\n",
       "      <td>Heavy Fuel Oil (HFO)</td>\n",
       "      <td>Critical</td>\n",
       "      <td>12.597558</td>\n",
       "      <td>2062.983982</td>\n",
       "      <td>1030.943616</td>\n",
       "      <td>14.132284</td>\n",
       "      <td>Moderate</td>\n",
       "      <td>1959.017882</td>\n",
       "      <td>483832.354540</td>\n",
       "      <td>292183.273104</td>\n",
       "      <td>25.867077</td>\n",
       "      <td>1.455179</td>\n",
       "      <td>1.415653</td>\n",
       "      <td>1</td>\n",
       "      <td>93.769249</td>\n",
       "    </tr>\n",
       "    <tr>\n",
       "      <th>1</th>\n",
       "      <td>2023-06-11</td>\n",
       "      <td>Fish Carrier</td>\n",
       "      <td>Short-haul</td>\n",
       "      <td>Steam Turbine</td>\n",
       "      <td>Good</td>\n",
       "      <td>10.387580</td>\n",
       "      <td>1796.057415</td>\n",
       "      <td>1060.486382</td>\n",
       "      <td>14.653083</td>\n",
       "      <td>Rough</td>\n",
       "      <td>162.394712</td>\n",
       "      <td>483388.000509</td>\n",
       "      <td>883765.787360</td>\n",
       "      <td>63.248196</td>\n",
       "      <td>0.290361</td>\n",
       "      <td>0.885648</td>\n",
       "      <td>6</td>\n",
       "      <td>93.895372</td>\n",
       "    </tr>\n",
       "  </tbody>\n",
       "</table>\n",
       "</div>"
      ],
      "text/plain": [
       "         Date       Ship_Type  Route_Type           Engine_Type  \\\n",
       "0  2023-06-04  Container Ship         NaN  Heavy Fuel Oil (HFO)   \n",
       "1  2023-06-11    Fish Carrier  Short-haul         Steam Turbine   \n",
       "\n",
       "  Maintenance_Status  Speed_Over_Ground_knots  Engine_Power_kW  \\\n",
       "0           Critical                12.597558      2062.983982   \n",
       "1               Good                10.387580      1796.057415   \n",
       "\n",
       "   Distance_Traveled_nm  Draft_meters Weather_Condition  Cargo_Weight_tons  \\\n",
       "0           1030.943616     14.132284          Moderate        1959.017882   \n",
       "1           1060.486382     14.653083             Rough         162.394712   \n",
       "\n",
       "   Operational_Cost_USD  Revenue_per_Voyage_USD  Turnaround_Time_hours  \\\n",
       "0         483832.354540           292183.273104              25.867077   \n",
       "1         483388.000509           883765.787360              63.248196   \n",
       "\n",
       "   Efficiency_nm_per_kWh  Seasonal_Impact_Score  Weekly_Voyage_Count  \\\n",
       "0               1.455179               1.415653                    1   \n",
       "1               0.290361               0.885648                    6   \n",
       "\n",
       "   Average_Load_Percentage  \n",
       "0                93.769249  \n",
       "1                93.895372  "
      ]
     },
     "execution_count": 123,
     "metadata": {},
     "output_type": "execute_result"
    }
   ],
   "source": [
    "ship_table = pd.read_csv('Ship_Performance_Dataset.csv')\n",
    "\n",
    "ship_table.head(2)"
   ]
  },
  {
   "cell_type": "code",
   "execution_count": 124,
   "metadata": {},
   "outputs": [
    {
     "name": "stdout",
     "output_type": "stream",
     "text": [
      "<class 'pandas.core.frame.DataFrame'>\n",
      "RangeIndex: 2736 entries, 0 to 2735\n",
      "Data columns (total 18 columns):\n",
      " #   Column                   Non-Null Count  Dtype  \n",
      "---  ------                   --------------  -----  \n",
      " 0   Date                     2736 non-null   object \n",
      " 1   Ship_Type                2600 non-null   object \n",
      " 2   Route_Type               2600 non-null   object \n",
      " 3   Engine_Type              2600 non-null   object \n",
      " 4   Maintenance_Status       2600 non-null   object \n",
      " 5   Speed_Over_Ground_knots  2736 non-null   float64\n",
      " 6   Engine_Power_kW          2736 non-null   float64\n",
      " 7   Distance_Traveled_nm     2736 non-null   float64\n",
      " 8   Draft_meters             2736 non-null   float64\n",
      " 9   Weather_Condition        2600 non-null   object \n",
      " 10  Cargo_Weight_tons        2736 non-null   float64\n",
      " 11  Operational_Cost_USD     2736 non-null   float64\n",
      " 12  Revenue_per_Voyage_USD   2736 non-null   float64\n",
      " 13  Turnaround_Time_hours    2736 non-null   float64\n",
      " 14  Efficiency_nm_per_kWh    2736 non-null   float64\n",
      " 15  Seasonal_Impact_Score    2736 non-null   float64\n",
      " 16  Weekly_Voyage_Count      2736 non-null   int64  \n",
      " 17  Average_Load_Percentage  2736 non-null   float64\n",
      "dtypes: float64(11), int64(1), object(6)\n",
      "memory usage: 384.9+ KB\n"
     ]
    }
   ],
   "source": [
    "ship_table.info()"
   ]
  },
  {
   "cell_type": "code",
   "execution_count": 125,
   "metadata": {},
   "outputs": [
    {
     "name": "stdout",
     "output_type": "stream",
     "text": [
      "<class 'pandas.core.frame.DataFrame'>\n",
      "Index: 2127 entries, 1 to 2735\n",
      "Data columns (total 18 columns):\n",
      " #   Column                   Non-Null Count  Dtype  \n",
      "---  ------                   --------------  -----  \n",
      " 0   Date                     2127 non-null   object \n",
      " 1   Ship_Type                2127 non-null   object \n",
      " 2   Route_Type               2127 non-null   object \n",
      " 3   Engine_Type              2127 non-null   object \n",
      " 4   Maintenance_Status       2127 non-null   object \n",
      " 5   Speed_Over_Ground_knots  2127 non-null   float64\n",
      " 6   Engine_Power_kW          2127 non-null   float64\n",
      " 7   Distance_Traveled_nm     2127 non-null   float64\n",
      " 8   Draft_meters             2127 non-null   float64\n",
      " 9   Weather_Condition        2127 non-null   object \n",
      " 10  Cargo_Weight_tons        2127 non-null   float64\n",
      " 11  Operational_Cost_USD     2127 non-null   float64\n",
      " 12  Revenue_per_Voyage_USD   2127 non-null   float64\n",
      " 13  Turnaround_Time_hours    2127 non-null   float64\n",
      " 14  Efficiency_nm_per_kWh    2127 non-null   float64\n",
      " 15  Seasonal_Impact_Score    2127 non-null   float64\n",
      " 16  Weekly_Voyage_Count      2127 non-null   int64  \n",
      " 17  Average_Load_Percentage  2127 non-null   float64\n",
      "dtypes: float64(11), int64(1), object(6)\n",
      "memory usage: 315.7+ KB\n"
     ]
    }
   ],
   "source": [
    "# ship_table['Ship_Type'].isnull()\n",
    "# ship_table.info()\n",
    "\n",
    "# Better Approach\n",
    "df = ship_table.dropna()\n",
    "df.info()"
   ]
  },
  {
   "cell_type": "code",
   "execution_count": null,
   "metadata": {},
   "outputs": [],
   "source": []
  }
 ],
 "metadata": {
  "kernelspec": {
   "display_name": "venv",
   "language": "python",
   "name": "python3"
  },
  "language_info": {
   "codemirror_mode": {
    "name": "ipython",
    "version": 3
   },
   "file_extension": ".py",
   "mimetype": "text/x-python",
   "name": "python",
   "nbconvert_exporter": "python",
   "pygments_lexer": "ipython3",
   "version": "3.12.7"
  }
 },
 "nbformat": 4,
 "nbformat_minor": 2
}
